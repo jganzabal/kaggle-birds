{
 "cells": [
  {
   "cell_type": "code",
   "execution_count": 75,
   "metadata": {},
   "outputs": [
    {
     "name": "stdout",
     "output_type": "stream",
     "text": [
      "The autoreload extension is already loaded. To reload it, use:\n",
      "  %reload_ext autoreload\n"
     ]
    }
   ],
   "source": [
    "%load_ext autoreload\n",
    "%autoreload 2"
   ]
  },
  {
   "cell_type": "code",
   "execution_count": 141,
   "metadata": {},
   "outputs": [],
   "source": [
    "from pydub import AudioSegment\n",
    "import pandas as pd\n",
    "import IPython.display as ipd"
   ]
  },
  {
   "cell_type": "code",
   "execution_count": 96,
   "metadata": {},
   "outputs": [],
   "source": [
    "FOLDER = '/home/usuario/birds/birdsong-recognition/'\n",
    "TRAIN_FOLDER = FOLDER + 'train_audio/'\n",
    "\n",
    "train = pd.read_csv(FOLDER+'train.csv')"
   ]
  },
  {
   "cell_type": "code",
   "execution_count": 106,
   "metadata": {},
   "outputs": [],
   "source": [
    "def get_train_clip(dataframe, resample=None):\n",
    "    filename = TRAIN_FOLDER+dataframe['ebird_code']+'/'+dataframe['filename']\n",
    "    sound = AudioSegment.from_mp3(filename)\n",
    "    orig_sr = sound.frame_rate\n",
    "    if resample is not None:\n",
    "        sound = sound.set_frame_rate(resample)\n",
    "    clip = sound.get_array_of_samples()\n",
    "    duration = sound.duration_seconds\n",
    "\n",
    "    clip = np.array(clip)\n",
    "    clip = (clip - clip.mean())/np.abs(clip).std()\n",
    "    return clip, orig_sr, duration\n",
    "\n",
    "def get_spectrum(x):\n",
    "    X = librosa.stft(x, )\n",
    "    Xdb = librosa.amplitude_to_db(abs(X))\n",
    "    plt.figure(figsize=(14, 5))\n",
    "    librosa.display.specshow(Xdb, sr=sr, x_axis='time', y_axis='hz')\n",
    "    return Xdb"
   ]
  },
  {
   "cell_type": "code",
   "execution_count": 107,
   "metadata": {},
   "outputs": [
    {
     "name": "stdout",
     "output_type": "stream",
     "text": [
      "['aldfly' 'ameavo' 'amebit' 'amecro' 'amegfi' 'amekes' 'amepip' 'amered'\n",
      " 'amerob' 'amewig' 'amewoo' 'amtspa' 'annhum' 'astfly' 'baisan' 'baleag'\n",
      " 'balori' 'banswa' 'barswa' 'bawwar' 'belkin1' 'belspa2' 'bewwre' 'bkbcuc'\n",
      " 'bkbmag1' 'bkbwar' 'bkcchi' 'bkchum' 'bkhgro' 'bkpwar' 'bktspa' 'blkpho'\n",
      " 'blugrb1' 'blujay' 'bnhcow' 'boboli' 'bongul' 'brdowl' 'brebla' 'brespa'\n",
      " 'brncre' 'brnthr' 'brthum' 'brwhaw' 'btbwar' 'btnwar' 'btywar' 'buffle'\n",
      " 'buggna' 'buhvir' 'bulori' 'bushti' 'buwtea' 'buwwar' 'cacwre' 'calgul'\n",
      " 'calqua' 'camwar' 'cangoo' 'canwar' 'canwre' 'carwre' 'casfin' 'caster1'\n",
      " 'casvir' 'cedwax' 'chispa' 'chiswi' 'chswar' 'chukar' 'clanut' 'cliswa'\n",
      " 'comgol' 'comgra' 'comloo' 'commer' 'comnig' 'comrav' 'comred' 'comter'\n",
      " 'comyel' 'coohaw' 'coshum' 'cowscj1' 'daejun' 'doccor' 'dowwoo' 'dusfly'\n",
      " 'eargre' 'easblu' 'easkin' 'easmea' 'easpho' 'eastow' 'eawpew' 'eucdov'\n",
      " 'eursta' 'evegro' 'fiespa' 'fiscro']\n"
     ]
    }
   ],
   "source": [
    "birds_codes = train['ebird_code'].unique()\n",
    "print(birds_codes[:100])"
   ]
  },
  {
   "cell_type": "code",
   "execution_count": 108,
   "metadata": {},
   "outputs": [],
   "source": [
    "import os"
   ]
  },
  {
   "cell_type": "code",
   "execution_count": 199,
   "metadata": {},
   "outputs": [],
   "source": [
    "def get_bird_data(dataset_folder, ebird_code, target_sr = 22050, chunk_seconds=2, rating_thres = 4, std_thres=0.1, save=True):\n",
    "    under_tres = []\n",
    "    if not os.path.exists(dataset_folder):\n",
    "        os.makedirs(dataset_folder)\n",
    "    total_duration = 0\n",
    "    df_aldfly = train[train['ebird_code']==ebird_code]\n",
    "    chunk_size = chunk_seconds*target_sr\n",
    "    ebird_folder = dataset_folder + ebird_code + '/'\n",
    "    if not os.path.exists(ebird_folder):\n",
    "        os.makedirs(ebird_folder)\n",
    "    for i in range(len(df_aldfly)):\n",
    "        df_row = df_aldfly.iloc[i]\n",
    "        rating = df_row['rating']\n",
    "        if rating>=rating_thres:\n",
    "            dataframe = df_aldfly.iloc[i]\n",
    "            x, orig_sr, duration = get_train_clip(dataframe, target_sr)\n",
    "            print(f'\\r{i}, {orig_sr}, {duration}', end='')\n",
    "#             print()\n",
    "#             print(x.mean(), x.std())\n",
    "#             print()\n",
    "            x = x[:(len(x)//chunk_size)*chunk_size].reshape(-1, chunk_size)\n",
    "            \n",
    "            total_duration = total_duration + duration\n",
    "            \n",
    "            for j, row in enumerate(x):\n",
    "                row_std = row.std()\n",
    "                \n",
    "                if row_std > std_thres:\n",
    "                    # print(j, row.mean(), row.std())\n",
    "                    if save:\n",
    "                        file_to_save = ebird_folder + ''.join(dataframe['filename'].split('.')[:-1]) + f'_{j+1}.npy'\n",
    "                        if not os.path.exists(file_to_save):\n",
    "                            np.save(file_to_save, row)\n",
    "\n",
    "                else:\n",
    "                    under_tres.append(row)\n",
    "    return under_tres"
   ]
  },
  {
   "cell_type": "code",
   "execution_count": null,
   "metadata": {},
   "outputs": [
    {
     "name": "stdout",
     "output_type": "stream",
     "text": [
      "26, 44100, 13.897142857142857"
     ]
    }
   ],
   "source": [
    "dataset_folder = './dataset/all/'\n",
    "sr = 22050\n",
    "chunk_seconds = 1\n",
    "_ = get_bird_data(dataset_folder, 'amecro', target_sr = 22050, chunk_seconds=chunk_seconds)\n",
    "_ = get_bird_data(dataset_folder, 'aldfly', target_sr = 22050, chunk_seconds=chunk_seconds)\n",
    "_ = get_bird_data(dataset_folder, 'amegfi', target_sr = 22050, chunk_seconds=chunk_seconds)"
   ]
  },
  {
   "cell_type": "code",
   "execution_count": null,
   "metadata": {},
   "outputs": [],
   "source": [
    "# stds = [x.std() for x in X_amecro]"
   ]
  },
  {
   "cell_type": "code",
   "execution_count": null,
   "metadata": {},
   "outputs": [],
   "source": [
    "# indxs = np.argsort(stds)\n",
    "# N = 200\n",
    "# print(indxs[:N])\n",
    "# print(np.array(stds)[indxs][:N])"
   ]
  },
  {
   "cell_type": "code",
   "execution_count": null,
   "metadata": {},
   "outputs": [],
   "source": [
    "# ipd.Audio(X_amecro[1406], rate=sr)"
   ]
  },
  {
   "cell_type": "code",
   "execution_count": null,
   "metadata": {},
   "outputs": [],
   "source": [
    "# ((299, 44100), (406, 44100)\n",
    "# X_ameavo = get_bird_data(dataset_folder, 'ameavo', target_sr = 22050, chunk_seconds=2)\n",
    "# X_amebit = get_bird_data('amebit', target_sr = 22050, chunk_seconds=2)"
   ]
  },
  {
   "cell_type": "code",
   "execution_count": null,
   "metadata": {},
   "outputs": [],
   "source": [
    "from birds_utils import create_train_val_folders, create_train_val_folders_with_diff_files"
   ]
  },
  {
   "cell_type": "code",
   "execution_count": null,
   "metadata": {},
   "outputs": [],
   "source": [
    "dataset_folder = './dataset/'\n",
    "create_train_val_folders_with_diff_files(dataset_folder, ratio=0.2, all_subfolder='all/', train_subfolder='train/', val_subfolder='val/')"
   ]
  },
  {
   "cell_type": "code",
   "execution_count": null,
   "metadata": {},
   "outputs": [],
   "source": [
    "all_subfolder = 'all/'\n",
    "train_subfolder = 'train/'\n",
    "val_subfolder = 'val/'"
   ]
  },
  {
   "cell_type": "code",
   "execution_count": null,
   "metadata": {},
   "outputs": [],
   "source": [
    "dataset_folder_all = dataset_folder + all_subfolder\n",
    "dataset_folder_train = dataset_folder + train_subfolder\n",
    "dataset_folder_val = dataset_folder + val_subfolder"
   ]
  },
  {
   "cell_type": "code",
   "execution_count": null,
   "metadata": {},
   "outputs": [],
   "source": [
    "len(glob(dataset_folder_train+'**/*', recursive=True))"
   ]
  },
  {
   "cell_type": "code",
   "execution_count": null,
   "metadata": {},
   "outputs": [],
   "source": [
    "len(glob(dataset_folder_val+'**/*', recursive=True))"
   ]
  },
  {
   "cell_type": "code",
   "execution_count": null,
   "metadata": {},
   "outputs": [],
   "source": [
    "len(glob(dataset_folder_all+'**/*', recursive=True))"
   ]
  },
  {
   "cell_type": "code",
   "execution_count": null,
   "metadata": {},
   "outputs": [],
   "source": []
  }
 ],
 "metadata": {
  "kernelspec": {
   "display_name": "Python 3",
   "language": "python",
   "name": "python3"
  },
  "language_info": {
   "codemirror_mode": {
    "name": "ipython",
    "version": 3
   },
   "file_extension": ".py",
   "mimetype": "text/x-python",
   "name": "python",
   "nbconvert_exporter": "python",
   "pygments_lexer": "ipython3",
   "version": "3.6.10"
  }
 },
 "nbformat": 4,
 "nbformat_minor": 4
}
