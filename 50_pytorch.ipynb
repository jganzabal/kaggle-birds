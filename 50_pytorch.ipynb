{
 "cells": [
  {
   "cell_type": "code",
   "execution_count": 1,
   "metadata": {},
   "outputs": [],
   "source": [
    "%load_ext autoreload\n",
    "%autoreload 2"
   ]
  },
  {
   "cell_type": "code",
   "execution_count": null,
   "metadata": {},
   "outputs": [],
   "source": [
    "import torch\n",
    "import numpy as np\n",
    "from matplotlib import pyplot as plt\n",
    "\n",
    "import IPython.display as ipd\n",
    "import librosa"
   ]
  },
  {
   "cell_type": "code",
   "execution_count": null,
   "metadata": {},
   "outputs": [],
   "source": [
    "torch.cuda.is_available()"
   ]
  },
  {
   "cell_type": "code",
   "execution_count": null,
   "metadata": {},
   "outputs": [],
   "source": [
    "device = torch.device(\"cuda:0\" if torch.cuda.is_available() else \"cpu\")"
   ]
  },
  {
   "cell_type": "code",
   "execution_count": null,
   "metadata": {},
   "outputs": [],
   "source": [
    "from torch import nn\n",
    "from torch.nn import functional as F\n",
    "import torch\n",
    "from birds_utils import get_fourier_weights, DataGeneratorV2, Dataset, get_pytorch_model, get_pytorch_model_all_conv"
   ]
  },
  {
   "cell_type": "code",
   "execution_count": null,
   "metadata": {},
   "outputs": [],
   "source": [
    "import torchvision"
   ]
  },
  {
   "cell_type": "code",
   "execution_count": null,
   "metadata": {},
   "outputs": [],
   "source": [
    "sr = 44100\n",
    "# train_files = np.load(f'train_files_{sr}.npy')\n",
    "# train_labels = np.load(f'train_labels_{sr}.npy')\n",
    "# val_files = np.load(f'val_files_{sr}.npy')\n",
    "# val_labels = np.load(f'val_labels_{sr}.npy')\n",
    "\n",
    "train_files = np.load(f'train_files.npy')\n",
    "train_labels = np.load(f'train_labels.npy')\n",
    "val_files = np.load(f'val_files.npy')\n",
    "val_labels = np.load(f'val_labels.npy')\n",
    "\n",
    "train_files = [f.replace('npy_22050', 'npy_44100') for f in train_files]\n",
    "val_files = [f.replace('npy_22050', 'npy_44100') for f in val_files]\n",
    "\n",
    "N = 2\n",
    "min_std = 0.5\n",
    "duration = 5\n",
    "\n",
    "params = {'batch_size': 32,\n",
    "          'shuffle': True,\n",
    "          'num_workers': 1}\n",
    "classes = np.unique(train_labels)\n",
    "\n",
    "training_set = Dataset(list(train_files)*N, classes, chunk_seconds=duration, sr=sr, min_std=min_std, multilabel=True)\n",
    "training_generator = torch.utils.data.DataLoader(training_set, **params)"
   ]
  },
  {
   "cell_type": "code",
   "execution_count": null,
   "metadata": {},
   "outputs": [],
   "source": [
    "for X, y in training_generator:\n",
    "    break"
   ]
  },
  {
   "cell_type": "code",
   "execution_count": null,
   "metadata": {},
   "outputs": [],
   "source": [
    "X.shape, y.shape"
   ]
  },
  {
   "cell_type": "code",
   "execution_count": null,
   "metadata": {},
   "outputs": [],
   "source": [
    "X = X.to(device)"
   ]
  },
  {
   "cell_type": "code",
   "execution_count": null,
   "metadata": {},
   "outputs": [],
   "source": [
    "X.type()"
   ]
  },
  {
   "cell_type": "code",
   "execution_count": null,
   "metadata": {},
   "outputs": [],
   "source": [
    "window_size = 1024"
   ]
  },
  {
   "cell_type": "code",
   "execution_count": null,
   "metadata": {},
   "outputs": [],
   "source": [
    "# nn.Sequential(*list(model_resnet.children())[:-1])"
   ]
  },
  {
   "cell_type": "code",
   "execution_count": null,
   "metadata": {},
   "outputs": [],
   "source": [
    "model = get_pytorch_model_all_conv(window_size, resnet='resnet18', pretrained=True, n_classes=10, init_fourier=True, train_fourier=False).to(device)"
   ]
  },
  {
   "cell_type": "code",
   "execution_count": null,
   "metadata": {},
   "outputs": [],
   "source": [
    "# model = torch.load('model_1_sec_18.pth')"
   ]
  },
  {
   "cell_type": "code",
   "execution_count": null,
   "metadata": {},
   "outputs": [],
   "source": [
    "# Fourier not trainable\n",
    "list(model.cos.parameters())[0].requires_grad"
   ]
  },
  {
   "cell_type": "code",
   "execution_count": null,
   "metadata": {},
   "outputs": [],
   "source": [
    "# plt.plot(model.cos.weight.data[0, 0, :])\n",
    "# plt.plot(model.cos.weight.data[1, 0, :])"
   ]
  },
  {
   "cell_type": "code",
   "execution_count": null,
   "metadata": {},
   "outputs": [],
   "source": [
    "%time\n",
    "model.eval()\n",
    "spec, y_res = model(X)"
   ]
  },
  {
   "cell_type": "code",
   "execution_count": null,
   "metadata": {},
   "outputs": [],
   "source": [
    "spec.shape, y_res.shape"
   ]
  },
  {
   "cell_type": "code",
   "execution_count": null,
   "metadata": {},
   "outputs": [],
   "source": [
    "N = 5\n",
    "plt.imshow(np.flipud(spec.detach().cpu().numpy()[N, :,:]), cmap='gray')\n",
    "ipd.Audio(X.detach().cpu().numpy()[N].reshape(-1), rate=sr)\n"
   ]
  },
  {
   "cell_type": "code",
   "execution_count": null,
   "metadata": {},
   "outputs": [],
   "source": [
    "spec[N].max(), spec[N].min()"
   ]
  },
  {
   "cell_type": "code",
   "execution_count": null,
   "metadata": {},
   "outputs": [],
   "source": [
    "def multi_acc(y_pred, y_test):\n",
    "    y_pred_softmax = torch.log_softmax(y_pred, dim = 1)\n",
    "    _, y_pred_tags = torch.max(y_pred_softmax, dim = 1)    \n",
    "    \n",
    "    correct_pred = (y_pred_tags == y_test).float()\n",
    "    \n",
    "    return correct_pred.sum(), len(correct_pred)\n",
    "\n",
    "def multilabel_acc(y_pred, y_test):\n",
    "    ok_count = ((torch.sigmoid(y_pred)>0.5) * y_test).sum()\n",
    "    return ok_count, len(y_pred)\n",
    "\n",
    "def validate(dgen_val, acc_func=multi_acc):\n",
    "    model.eval()  \n",
    "    with torch.no_grad():\n",
    "        running_loss = 0.0\n",
    "        total_ok = 0\n",
    "        total_predictions = 0\n",
    "        batches_per_epoch = len(dgen_val)\n",
    "        for i, (X, y) in enumerate(dgen_val):\n",
    "#             inputs, labels = torch.from_numpy(X).float().to(device), torch.from_numpy(y).long().to(device)\n",
    "            inputs, labels = X.to(device), y.to(device)\n",
    "            _, y_pred = model(inputs)\n",
    "            loss = criterion(y_pred, labels)\n",
    "            ok, total = acc_func(y_pred, labels)\n",
    "            total_ok = total_ok + ok\n",
    "            running_loss = running_loss + loss\n",
    "            total_predictions = total_predictions + total\n",
    "            print(f'\\r{i+1}/{batches_per_epoch} - val loss: {running_loss/(i+1)}, val acc: {total_ok/total_predictions}', end='')\n",
    "    model.train()\n",
    "    return (running_loss/(i+1)).detach().item(), (total_ok/total_predictions).detach().item()"
   ]
  },
  {
   "cell_type": "code",
   "execution_count": null,
   "metadata": {},
   "outputs": [],
   "source": [
    "def train_model(dataset, validation_generator, criterion, acc_func=multi_acc, epochs=1, best_val_acc = 0):\n",
    "    model.train()\n",
    "    batches_per_epoch = len(dataset)\n",
    "    for epoch in range(epochs):  # loop over the dataset multiple times\n",
    "        running_loss = 0.0\n",
    "        total_ok = 0\n",
    "        total_predictions = 0\n",
    "        for i, (X, y) in enumerate(dataset):\n",
    "            # Get the inputs; data is a list of [inputs, labels]\n",
    "            inputs, labels = X.to(device), y.to(device)\n",
    "            # (1) Initialise gradients\n",
    "            optimizer.zero_grad()\n",
    "            # (2) Forward pass\n",
    "            _, y_pred = model(inputs)\n",
    "            loss = criterion(y_pred, labels)\n",
    "            running_loss = running_loss + loss\n",
    "            # (3) Backward\n",
    "            loss.backward()\n",
    "            # (4) Compute the loss and update the weights\n",
    "            optimizer.step()\n",
    "            ok, total = acc_func(y_pred, labels)\n",
    "            total_ok = total_ok + ok\n",
    "            total_predictions = total_predictions + total\n",
    "            \n",
    "            print(f'\\r{epoch+1}/{epochs} - {i+1}/{batches_per_epoch} - loss: {running_loss/(i+1)}, acc: {total_ok/total_predictions}', end='')\n",
    "        \n",
    "        print()\n",
    "        loss, acc = validate(validation_generator, acc_func=multilabel_acc)\n",
    "        if acc>best_val_acc:\n",
    "            best_val_acc = acc\n",
    "            print()\n",
    "            print('Best model saved')\n",
    "            torch.save(model.state_dict(), f'model_{epoch+1}_.pth')\n",
    "        else:\n",
    "            print()\n",
    "        print('--------------------------------------------------------------------------')\n",
    "        "
   ]
  },
  {
   "cell_type": "code",
   "execution_count": null,
   "metadata": {},
   "outputs": [],
   "source": [
    "params = {'batch_size': 16,\n",
    "          'shuffle': True,\n",
    "          'num_workers': 1}\n",
    "classes = np.unique(train_labels)\n",
    "\n",
    "N = 7\n",
    "training_set = Dataset(list(train_files)*N, classes, chunk_seconds=duration, sr=sr, min_std=min_std, multilabel=True)\n",
    "validation_set = Dataset(list(val_files)*N, classes, chunk_seconds=duration, sr=sr, min_std=min_std, multilabel=True)\n",
    "training_generator = torch.utils.data.DataLoader(training_set, **params)\n",
    "validation_generator = torch.utils.data.DataLoader(validation_set, **params)"
   ]
  },
  {
   "cell_type": "code",
   "execution_count": 25,
   "metadata": {},
   "outputs": [],
   "source": [
    "LEARNING_RATE = 0.001\n",
    "# criterion = torch.nn.CrossEntropyLoss()\n",
    "criterion = torch.nn.BCEWithLogitsLoss()\n",
    "optimizer = torch.optim.Adam(model.parameters(), lr=LEARNING_RATE)"
   ]
  },
  {
   "cell_type": "code",
   "execution_count": null,
   "metadata": {},
   "outputs": [
    {
     "name": "stdout",
     "output_type": "stream",
     "text": [
      "1/100 - 346/346 - loss: 0.19698800146579742, acc: 0.39199709892272954\n",
      "78/78 - val loss: 0.35373106598854065, val acc: 0.37288135290145874\n",
      "--------------------------------------------------------------------------\n",
      "2/100 - 346/346 - loss: 0.11426668614149094, acc: 0.6784356236457825\n",
      "78/78 - val loss: 0.1679152548313141, val acc: 0.58111375570297241\n",
      "Best model saved\n",
      "--------------------------------------------------------------------------\n",
      "3/100 - 346/346 - loss: 0.08152970671653748, acc: 0.7874343395233154\n",
      "78/78 - val loss: 0.18607202172279358, val acc: 0.5891848206520081\n",
      "Best model saved\n",
      "--------------------------------------------------------------------------\n",
      "4/100 - 346/346 - loss: 0.06542854011058807, acc: 0.8292594552040119\n",
      "78/78 - val loss: 0.13372105360031128, val acc: 0.6997578740119934\n",
      "Best model saved\n",
      "--------------------------------------------------------------------------\n",
      "5/100 - 346/346 - loss: 0.04875045642256737, acc: 0.88321560621261675\n",
      "78/78 - val loss: 0.1296156793832779, val acc: 0.73769164085388181\n",
      "Best model saved\n",
      "--------------------------------------------------------------------------\n",
      "6/100 - 346/346 - loss: 0.04248416796326637, acc: 0.89951109886169436\n",
      "78/78 - val loss: 0.1437055468559265, val acc: 0.69330102205276495\n",
      "--------------------------------------------------------------------------\n",
      "7/100 - 346/346 - loss: 0.031026998534798622, acc: 0.9199709892272949\n",
      "78/78 - val loss: 0.13955733180046082, val acc: 0.7384987473487854\n",
      "Best model saved\n",
      "--------------------------------------------------------------------------\n",
      "8/100 - 346/346 - loss: 0.0284169502556324, acc: 0.938801348209381108\n",
      "78/78 - val loss: 0.14957396686077118, val acc: 0.7506052851676941\n",
      "Best model saved\n",
      "--------------------------------------------------------------------------\n",
      "9/100 - 346/346 - loss: 0.028219470754265785, acc: 0.9349990487098694\n",
      "78/78 - val loss: 0.1257959008216858, val acc: 0.75948345661163332\n",
      "Best model saved\n",
      "--------------------------------------------------------------------------\n",
      "10/100 - 346/346 - loss: 0.0212546456605196, acc: 0.954010486602783223\n",
      "78/78 - val loss: 0.15356320142745972, val acc: 0.6820015907287598\n",
      "--------------------------------------------------------------------------\n",
      "11/100 - 346/346 - loss: 0.019568264484405518, acc: 0.9578127264976501\n",
      "78/78 - val loss: 0.19836048781871796, val acc: 0.7384987473487854\n",
      "--------------------------------------------------------------------------\n",
      "12/100 - 346/346 - loss: 0.026480214670300484, acc: 0.9427846670150757\n",
      "78/78 - val loss: 0.1314794421195984, val acc: 0.75625503063201967\n",
      "--------------------------------------------------------------------------\n",
      "13/100 - 346/346 - loss: 0.014263440854847431, acc: 0.9688574671745358\n",
      "78/78 - val loss: 0.19849516451358795, val acc: 0.7142856717109688\n",
      "--------------------------------------------------------------------------\n",
      "14/100 - 346/346 - loss: 0.01934667117893696, acc: 0.95600211620330812\n",
      "78/78 - val loss: 0.12470779567956924, val acc: 0.8014527559280396\n",
      "Best model saved\n",
      "--------------------------------------------------------------------------\n",
      "15/100 - 346/346 - loss: 0.00987352803349495, acc: 0.97845369577407842\n",
      "78/78 - val loss: 0.1467018723487854, val acc: 0.78450363874435424\n",
      "--------------------------------------------------------------------------\n",
      "16/100 - 346/346 - loss: 0.013608564622700214, acc: 0.9710302352905273\n",
      "78/78 - val loss: 0.14426647126674652, val acc: 0.7497981786727905\n",
      "--------------------------------------------------------------------------\n",
      "17/100 - 346/346 - loss: 0.012452726252377033, acc: 0.9748324751853943\n",
      "78/78 - val loss: 0.16985195875167847, val acc: 0.7231638431549072\n",
      "--------------------------------------------------------------------------\n",
      "18/100 - 346/346 - loss: 0.017782727256417274, acc: 0.9657794237136841\n",
      "78/78 - val loss: 0.16034607589244843, val acc: 0.7506052851676941\n",
      "--------------------------------------------------------------------------\n",
      "19/100 - 346/346 - loss: 0.011012825183570385, acc: 0.9782726764678955\n",
      "78/78 - val loss: 0.11854822188615799, val acc: 0.7691686749458313\n",
      "--------------------------------------------------------------------------\n",
      "20/100 - 346/346 - loss: 0.009385163895785809, acc: 0.98334234952926647\n",
      "78/78 - val loss: 0.14638130366802216, val acc: 0.7723971009254456\n",
      "--------------------------------------------------------------------------\n",
      "21/100 - 346/346 - loss: 0.013798527419567108, acc: 0.9744703769683838\n",
      "78/78 - val loss: 0.1543993353843689, val acc: 0.77401125431060797\n",
      "--------------------------------------------------------------------------\n",
      "22/100 - 346/346 - loss: 0.01693502627313137, acc: 0.96921962499618532\n",
      "78/78 - val loss: 0.1416981965303421, val acc: 0.78127521276474269\n",
      "--------------------------------------------------------------------------\n",
      "23/100 - 346/346 - loss: 0.007234038319438696, acc: 0.98442870378494267\n",
      "78/78 - val loss: 0.18726609647274017, val acc: 0.7070217728614807\n",
      "--------------------------------------------------------------------------\n",
      "24/100 - 346/346 - loss: 0.009323745034635067, acc: 0.98062646389007577\n",
      "78/78 - val loss: 0.17383995652198792, val acc: 0.7094430923461914\n",
      "--------------------------------------------------------------------------\n",
      "25/100 - 346/346 - loss: 0.006449589040130377, acc: 0.98623931407928475\n",
      "78/78 - val loss: 0.2513003647327423, val acc: 0.71267151832580575\n",
      "--------------------------------------------------------------------------\n",
      "26/100 - 346/346 - loss: 0.008344748988747597, acc: 0.98750674724578865\n",
      "78/78 - val loss: 0.22234058380126953, val acc: 0.6884584426879883\n",
      "--------------------------------------------------------------------------\n",
      "27/100 - 346/346 - loss: 0.015120567753911018, acc: 0.9728408455848694\n",
      "78/78 - val loss: 0.17293086647987366, val acc: 0.7578692436218262\n",
      "--------------------------------------------------------------------------\n",
      "28/100 - 346/346 - loss: 0.00641283392906189, acc: 0.985877215862274299\n",
      "78/78 - val loss: 0.15740689635276794, val acc: 0.7812752127647492\n",
      "--------------------------------------------------------------------------\n",
      "29/100 - 346/346 - loss: 0.002925199456512928, acc: 0.99348175525665289\n",
      "78/78 - val loss: 0.16465133428573608, val acc: 0.7812752127647448\n",
      "--------------------------------------------------------------------------\n",
      "30/100 - 346/346 - loss: 0.00991439912468195, acc: 0.97972112894058236\n",
      "78/78 - val loss: 0.15208135545253754, val acc: 0.7691686749458313\n",
      "--------------------------------------------------------------------------\n",
      "31/100 - 346/346 - loss: 0.006923594977706671, acc: 0.98786890506744384\n",
      "78/78 - val loss: 0.19005949795246124, val acc: 0.7296206355094918\n",
      "--------------------------------------------------------------------------\n",
      "32/100 - 346/346 - loss: 0.007832537405192852, acc: 0.9878689050674438\n",
      "78/78 - val loss: 0.17195835709571838, val acc: 0.7538337111473083\n",
      "--------------------------------------------------------------------------\n",
      "33/100 - 73/346 - loss: 0.0020091719925403595, acc: 0.9948630332946777"
     ]
    }
   ],
   "source": [
    "train_model(training_generator, validation_generator, criterion, epochs=100, acc_func=multilabel_acc, best_val_acc=0.5)"
   ]
  },
  {
   "cell_type": "code",
   "execution_count": 30,
   "metadata": {},
   "outputs": [],
   "source": [
    "torch.save(model.state_dict(), 'model_44100_last.pth')"
   ]
  },
  {
   "cell_type": "code",
   "execution_count": null,
   "metadata": {},
   "outputs": [],
   "source": [
    "# print(torch.cuda.memory_summary(device=None, abbreviated=False))"
   ]
  },
  {
   "cell_type": "code",
   "execution_count": 65,
   "metadata": {},
   "outputs": [],
   "source": []
  },
  {
   "cell_type": "code",
   "execution_count": null,
   "metadata": {},
   "outputs": [],
   "source": []
  },
  {
   "cell_type": "code",
   "execution_count": null,
   "metadata": {},
   "outputs": [],
   "source": []
  },
  {
   "cell_type": "code",
   "execution_count": 40,
   "metadata": {},
   "outputs": [],
   "source": []
  },
  {
   "cell_type": "code",
   "execution_count": null,
   "metadata": {},
   "outputs": [],
   "source": [
    "X_img = torch.from_numpy(np.random.rand(2, 1, 44100)).float()"
   ]
  }
 ],
 "metadata": {
  "kernelspec": {
   "display_name": "Python [conda env:tensorflow2] *",
   "language": "python",
   "name": "conda-env-tensorflow2-py"
  },
  "language_info": {
   "codemirror_mode": {
    "name": "ipython",
    "version": 3
   },
   "file_extension": ".py",
   "mimetype": "text/x-python",
   "name": "python",
   "nbconvert_exporter": "python",
   "pygments_lexer": "ipython3",
   "version": "3.6.10"
  }
 },
 "nbformat": 4,
 "nbformat_minor": 4
}
