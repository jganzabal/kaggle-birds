{
 "cells": [
  {
   "cell_type": "code",
   "execution_count": 1,
   "metadata": {
    "_cell_guid": "b1076dfc-b9ad-4769-8c92-a6c4dae69d19",
    "_uuid": "8f2839f25d086af736a60e9eeb907d3b93b6e0e5"
   },
   "outputs": [],
   "source": [
    "import numpy as np # linear algebra\n",
    "import pandas as pd # data processing, CSV file I/O (e.g. pd.read_csv)\n",
    "from pydub import AudioSegment\n",
    "import librosa\n",
    "from matplotlib import pyplot as plt\n",
    "import librosa.display\n",
    "import IPython.display as ipd"
   ]
  },
  {
   "cell_type": "code",
   "execution_count": 2,
   "metadata": {},
   "outputs": [],
   "source": [
    "def load_test_clip(path, start_time, duration=5):\n",
    "    return librosa.load(path, offset=start_time, duration=duration)"
   ]
  },
  {
   "cell_type": "code",
   "execution_count": 5,
   "metadata": {},
   "outputs": [],
   "source": [
    "FOLDER = '/home/usuario/birds/birdsong-recognition/'\n",
    "TEST_FOLDER = FOLDER + 'test_audio/'\n",
    "TRAIN_FOLDER = FOLDER + 'train_audio/'\n",
    "EXAMPLE_FOLDER = FOLDER + 'example_test_audio/'"
   ]
  },
  {
   "cell_type": "code",
   "execution_count": 6,
   "metadata": {},
   "outputs": [],
   "source": [
    "train = pd.read_csv(FOLDER+'train.csv')\n",
    "# test = pd.read_csv(FOLDER+'test.csv')\n",
    "# example_test_audio_metadata = pd.read_csv(FOLDER+'example_test_audio_metadata.csv')\n",
    "# submit = pd.read_csv(FOLDER+'sample_submission.csv')\n",
    "# example_test_audio_summary = pd.read_csv(FOLDER+'example_test_audio_summary.csv')"
   ]
  },
  {
   "cell_type": "code",
   "execution_count": 7,
   "metadata": {},
   "outputs": [],
   "source": [
    "# example_test_audio_metadata"
   ]
  },
  {
   "cell_type": "code",
   "execution_count": 8,
   "metadata": {},
   "outputs": [],
   "source": [
    "def get_example_clip(index = 1):\n",
    "    start_time = example_test_audio_metadata['time_start'][index]\n",
    "    time_end = example_test_audio_metadata['time_end'][index]\n",
    "    duration = time_end - start_time\n",
    "    translate_dict = {'BLKFR-10-CPL_20190611_093000': 'BLKFR-10-CPL_20190611_093000.pt540.mp3', 'ORANGE-7-CAP_20190606_093000':'ORANGE-7-CAP_20190606_093000.pt623.mp3'}\n",
    "    path = EXAMPLE_FOLDER + translate_dict[example_test_audio_metadata['file_id'][index]]\n",
    "    # BLKFR-10-CPL_20190611_093000.pt540.mp3  ORANGE-7-CAP_20190606_093000.pt623.mp3\n",
    "    sound_clip, sr = load_test_clip(path, start_time, duration=duration)\n",
    "    return sound_clip, sr\n",
    "# sound_clip, rate = get_example_clip(253)\n",
    "# ipd.Audio(sound_clip, rate=rate)"
   ]
  },
  {
   "cell_type": "code",
   "execution_count": 9,
   "metadata": {},
   "outputs": [],
   "source": [
    "# from pydub.silence import split_on_silence\n",
    "# dataframe = train[train['ebird_code']=='amecro'].iloc[0]\n",
    "# filename = TRAIN_FOLDER+dataframe['ebird_code']+'/'+dataframe['filename']\n",
    "# sound = AudioSegment.from_mp3(filename)"
   ]
  },
  {
   "cell_type": "code",
   "execution_count": 10,
   "metadata": {},
   "outputs": [],
   "source": [
    "def get_train_clip(dataframe, resample=None):\n",
    "    filename = TRAIN_FOLDER+dataframe['ebird_code']+'/'+dataframe['filename']\n",
    "    sound = AudioSegment.from_mp3(filename)\n",
    "    orig_sr = sound.frame_rate\n",
    "    if resample is not None:\n",
    "        sound = sound.set_frame_rate(resample)\n",
    "    clip = sound.get_array_of_samples()\n",
    "    duration = sound.duration_seconds\n",
    "\n",
    "    clip = np.array(clip)\n",
    "    clip = (clip - clip.mean())/np.abs(clip).max()\n",
    "    return clip, orig_sr, duration\n",
    "\n",
    "def get_spectrum(x):\n",
    "    X = librosa.stft(x, )\n",
    "    Xdb = librosa.amplitude_to_db(abs(X))\n",
    "    plt.figure(figsize=(14, 5))\n",
    "    librosa.display.specshow(Xdb, sr=sr, x_axis='time', y_axis='hz')\n",
    "    return Xdb\n",
    "\n",
    "# x, sr, duration = get_train_clip(train[train['ebird_code']=='ameavo'].iloc[0], 8000)\n",
    "\n",
    "# Xdb = get_spectrum(x)\n",
    "# plt.figure(figsize=(14, 5))\n",
    "# plt.plot(np.log10(1/65535+x**2))\n",
    "# print(sr)\n",
    "# ipd.Audio(x, rate=sr)"
   ]
  },
  {
   "cell_type": "code",
   "execution_count": 11,
   "metadata": {},
   "outputs": [
    {
     "name": "stdout",
     "output_type": "stream",
     "text": [
      "['aldfly' 'ameavo' 'amebit' 'amecro' 'amegfi' 'amekes' 'amepip' 'amered'\n",
      " 'amerob' 'amewig' 'amewoo' 'amtspa' 'annhum' 'astfly' 'baisan' 'baleag'\n",
      " 'balori' 'banswa' 'barswa' 'bawwar' 'belkin1' 'belspa2' 'bewwre' 'bkbcuc'\n",
      " 'bkbmag1' 'bkbwar' 'bkcchi' 'bkchum' 'bkhgro' 'bkpwar' 'bktspa' 'blkpho'\n",
      " 'blugrb1' 'blujay' 'bnhcow' 'boboli' 'bongul' 'brdowl' 'brebla' 'brespa'\n",
      " 'brncre' 'brnthr' 'brthum' 'brwhaw' 'btbwar' 'btnwar' 'btywar' 'buffle'\n",
      " 'buggna' 'buhvir' 'bulori' 'bushti' 'buwtea' 'buwwar' 'cacwre' 'calgul'\n",
      " 'calqua' 'camwar' 'cangoo' 'canwar' 'canwre' 'carwre' 'casfin' 'caster1'\n",
      " 'casvir' 'cedwax' 'chispa' 'chiswi' 'chswar' 'chukar' 'clanut' 'cliswa'\n",
      " 'comgol' 'comgra' 'comloo' 'commer' 'comnig' 'comrav' 'comred' 'comter'\n",
      " 'comyel' 'coohaw' 'coshum' 'cowscj1' 'daejun' 'doccor' 'dowwoo' 'dusfly'\n",
      " 'eargre' 'easblu' 'easkin' 'easmea' 'easpho' 'eastow' 'eawpew' 'eucdov'\n",
      " 'eursta' 'evegro' 'fiespa' 'fiscro']\n"
     ]
    }
   ],
   "source": [
    "birds_codes = train['ebird_code'].unique()\n",
    "print(birds_codes[:100])"
   ]
  },
  {
   "cell_type": "code",
   "execution_count": 12,
   "metadata": {},
   "outputs": [],
   "source": [
    "import os"
   ]
  },
  {
   "cell_type": "code",
   "execution_count": 13,
   "metadata": {},
   "outputs": [],
   "source": [
    "dataset_folder = './dataset/'"
   ]
  },
  {
   "cell_type": "code",
   "execution_count": 14,
   "metadata": {},
   "outputs": [],
   "source": [
    "if not os.path.exists(dataset_folder):\n",
    "    os.makedirs(dataset_folder)"
   ]
  },
  {
   "cell_type": "code",
   "execution_count": 15,
   "metadata": {},
   "outputs": [],
   "source": [
    "def get_bird_data(ebird_code, target_sr = 22050, chunk_seconds=2):\n",
    "    total_duration = 0\n",
    "    srs = []\n",
    "    ratings = []\n",
    "    df_aldfly = train[train['ebird_code']==ebird_code]\n",
    "    durations = []\n",
    "    chunk_size = chunk_seconds*target_sr\n",
    "    x_reshaped = []\n",
    "    ebird_folder = dataset_folder + ebird_code + '/'\n",
    "    if not os.path.exists(ebird_folder):\n",
    "        os.makedirs(ebird_folder)\n",
    "    for i in range(len(df_aldfly)):\n",
    "        df_row = df_aldfly.iloc[i]\n",
    "        rating = df_row['rating']\n",
    "        ratings.append(rating)\n",
    "        if rating>=4:\n",
    "            dataframe = df_aldfly.iloc[i]\n",
    "            x, orig_sr, duration = get_train_clip(dataframe, target_sr)\n",
    "            x = x[:(len(x)//chunk_size)*chunk_size].reshape(-1, chunk_size)\n",
    "            x_reshaped.append(x)\n",
    "            srs.append(orig_sr)\n",
    "            durations.append(duration)\n",
    "            total_duration = total_duration + duration\n",
    "            print(f'\\r{i}, {orig_sr}, {duration}', end='')\n",
    "            for j, row in enumerate(x):\n",
    "                file_to_save = ebird_folder + ''.join(dataframe['filename'].split('.')[:-1]) + f'_{j+1}.npy'\n",
    "                if not os.path.exists(file_to_save):\n",
    "                    np.save(file_to_save, row)\n",
    "    return np.vstack(x_reshaped)"
   ]
  },
  {
   "cell_type": "code",
   "execution_count": 16,
   "metadata": {},
   "outputs": [],
   "source": [
    "# ((299, 44100), (406, 44100)\n",
    "# X_ameavo = get_bird_data('ameavo', target_sr = 22050, chunk_seconds=2)\n",
    "# X_amebit = get_bird_data('amebit', target_sr = 22050, chunk_seconds=2)"
   ]
  },
  {
   "cell_type": "code",
   "execution_count": 17,
   "metadata": {},
   "outputs": [
    {
     "name": "stdout",
     "output_type": "stream",
     "text": [
      "99, 44100, 162.56126984126982"
     ]
    }
   ],
   "source": [
    "# (3113, 44100), (4707, 44100), (2872, 44100))\n",
    "# Largos\n",
    "# ¿Quitarles el silencio del principio?\n",
    "sr = 22050\n",
    "X_amecro = get_bird_data('amecro', target_sr = 22050, chunk_seconds=2)"
   ]
  },
  {
   "cell_type": "code",
   "execution_count": 18,
   "metadata": {},
   "outputs": [
    {
     "name": "stdout",
     "output_type": "stream",
     "text": [
      "99, 44100, 9.9961904761904766"
     ]
    }
   ],
   "source": [
    "X_aldfly = get_bird_data('aldfly', target_sr = 22050, chunk_seconds=2)"
   ]
  },
  {
   "cell_type": "code",
   "execution_count": 19,
   "metadata": {},
   "outputs": [
    {
     "name": "stdout",
     "output_type": "stream",
     "text": [
      "99, 44100, 42.710204081632654"
     ]
    }
   ],
   "source": [
    "X_amegfi = get_bird_data('amegfi', target_sr = 22050, chunk_seconds=2)"
   ]
  },
  {
   "cell_type": "code",
   "execution_count": 55,
   "metadata": {},
   "outputs": [
    {
     "name": "stdout",
     "output_type": "stream",
     "text": [
      "(44100,)\n"
     ]
    }
   ],
   "source": [
    "for row in X_amecro:\n",
    "    print(row.shape)\n",
    "    break"
   ]
  },
  {
   "cell_type": "code",
   "execution_count": 27,
   "metadata": {},
   "outputs": [],
   "source": [
    "x = np.load('./dataset/amecro/XC233496_5.npy')"
   ]
  },
  {
   "cell_type": "code",
   "execution_count": 28,
   "metadata": {},
   "outputs": [
    {
     "data": {
      "text/html": [
       "\n",
       "                <audio  controls=\"controls\" >\n",
       "                    <source src=\"data:audio/wav;base64,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\" type=\"audio/wav\" />\n",
       "                    Your browser does not support the audio element.\n",
       "                </audio>\n",
       "              "
      ],
      "text/plain": [
       "<IPython.lib.display.Audio object>"
      ]
     },
     "execution_count": 28,
     "metadata": {},
     "output_type": "execute_result"
    }
   ],
   "source": [
    "ipd.Audio(x, rate=sr)"
   ]
  },
  {
   "cell_type": "code",
   "execution_count": 1,
   "metadata": {},
   "outputs": [],
   "source": [
    "dataset_folder = './dataset/'"
   ]
  },
  {
   "cell_type": "code",
   "execution_count": 8,
   "metadata": {},
   "outputs": [],
   "source": [
    "\n",
    "from matplotlib import pyplot as plt"
   ]
  },
  {
   "cell_type": "code",
   "execution_count": 3,
   "metadata": {},
   "outputs": [
    {
     "ename": "NameError",
     "evalue": "name 'dataset_folder' is not defined",
     "output_type": "error",
     "traceback": [
      "\u001b[0;31m---------------------------------------------------------------------------\u001b[0m",
      "\u001b[0;31mNameError\u001b[0m                                 Traceback (most recent call last)",
      "\u001b[0;32m<ipython-input-3-aebc13d075db>\u001b[0m in \u001b[0;36m<module>\u001b[0;34m\u001b[0m\n\u001b[1;32m      1\u001b[0m \u001b[0;32mfrom\u001b[0m \u001b[0mbirds_utils\u001b[0m \u001b[0;32mimport\u001b[0m \u001b[0mDataGenerator\u001b[0m\u001b[0;34m,\u001b[0m \u001b[0mcreate_train_val_folders\u001b[0m\u001b[0;34m\u001b[0m\u001b[0;34m\u001b[0m\u001b[0m\n\u001b[0;32m----> 2\u001b[0;31m \u001b[0mdgen\u001b[0m \u001b[0;34m=\u001b[0m \u001b[0mDataGenerator\u001b[0m\u001b[0;34m(\u001b[0m\u001b[0mdataset_folder\u001b[0m\u001b[0;34m,\u001b[0m \u001b[0mbatch_size\u001b[0m\u001b[0;34m=\u001b[0m\u001b[0;36m1024\u001b[0m\u001b[0;34m)\u001b[0m\u001b[0;34m\u001b[0m\u001b[0;34m\u001b[0m\u001b[0m\n\u001b[0m",
      "\u001b[0;31mNameError\u001b[0m: name 'dataset_folder' is not defined"
     ]
    }
   ],
   "source": [
    "from birds_utils import DataGenerator, create_train_val_folders\n",
    "dgen = DataGenerator(dataset_folder, batch_size=1024)"
   ]
  },
  {
   "cell_type": "code",
   "execution_count": 6,
   "metadata": {},
   "outputs": [
    {
     "name": "stdout",
     "output_type": "stream",
     "text": [
      "(1024, 44100) (1024, 1)\n"
     ]
    }
   ],
   "source": [
    "for ba in dgen:\n",
    "    print(ba[0].shape, ba[1].shape)\n",
    "    break"
   ]
  },
  {
   "cell_type": "code",
   "execution_count": 16,
   "metadata": {},
   "outputs": [
    {
     "data": {
      "text/plain": [
       "[<matplotlib.lines.Line2D at 0x7f16cecc3710>]"
      ]
     },
     "execution_count": 16,
     "metadata": {},
     "output_type": "execute_result"
    },
    {
     "data": {
      "image/png": "[encoded data removed]",
      "text/plain": [
       "<Figure size 432x288 with 1 Axes>"
      ]
     },
     "metadata": {
      "needs_background": "light"
     },
     "output_type": "display_data"
    }
   ],
   "source": [
    "plt.plot(ba[0][4])"
   ]
  },
  {
   "cell_type": "code",
   "execution_count": 9,
   "metadata": {},
   "outputs": [
    {
     "data": {
      "text/plain": [
       "11"
      ]
     },
     "execution_count": 9,
     "metadata": {},
     "output_type": "execute_result"
    }
   ],
   "source": [
    "len(dgen)"
   ]
  },
  {
   "cell_type": "code",
   "execution_count": 50,
   "metadata": {},
   "outputs": [
    {
     "data": {
      "text/plain": [
       "(4707, 44100)"
      ]
     },
     "execution_count": 50,
     "metadata": {},
     "output_type": "execute_result"
    }
   ],
   "source": [
    "X_amecro.shape"
   ]
  },
  {
   "cell_type": "code",
   "execution_count": 48,
   "metadata": {},
   "outputs": [],
   "source": [
    "labels = ['amecro', 'aldfly', 'amegfi']\n",
    "X = np.vstack([X_amecro, X_aldfly, X_amegfi])\n",
    "X = X.reshape(*X.shape,1)\n",
    "y = np.array([0]*len(X_amecro) + [1]*len(X_aldfly) + [2]*len(X_amegfi))"
   ]
  },
  {
   "cell_type": "code",
   "execution_count": 49,
   "metadata": {},
   "outputs": [
    {
     "data": {
      "text/plain": [
       "(10692, 44100, 1)"
      ]
     },
     "execution_count": 49,
     "metadata": {},
     "output_type": "execute_result"
    }
   ],
   "source": [
    "X.shape"
   ]
  },
  {
   "cell_type": "code",
   "execution_count": null,
   "metadata": {},
   "outputs": [],
   "source": []
  },
  {
   "cell_type": "code",
   "execution_count": 16,
   "metadata": {},
   "outputs": [],
   "source": [
    "np.save('X_3_classes.npy', X)"
   ]
  },
  {
   "cell_type": "code",
   "execution_count": 17,
   "metadata": {},
   "outputs": [],
   "source": [
    "np.save('y_3_classes.npy', y)"
   ]
  },
  {
   "cell_type": "code",
   "execution_count": 23,
   "metadata": {},
   "outputs": [],
   "source": [
    "np.save('one_sample.npz',X[0].reshape(-1))"
   ]
  },
  {
   "cell_type": "code",
   "execution_count": 24,
   "metadata": {},
   "outputs": [
    {
     "name": "stdout",
     "output_type": "stream",
     "text": [
      "total 3,6G\n",
      "drwxrwxr-x  3 usuario usuario 4,0K jul  6 20:10 .\n",
      "drwxrwxr-x 67 usuario usuario 4,0K jul  6 16:39 ..\n",
      "-rw-rw-r--  1 usuario usuario 9,3K jul  6 20:09 1_Preprocess.ipynb\n",
      "-rw-rw-r--  1 usuario usuario 702K jul  6 19:25 2_Model.ipynb\n",
      "drwxrwxr-x  2 usuario usuario 4,0K jul  6 17:52 .ipynb_checkpoints\n",
      "-rw-rw-r--  1 usuario usuario 345K jul  6 20:10 one_sample.npy\n",
      "-rw-rw-r--  1 usuario usuario 345K jul  6 20:10 one_sample.npz.npy\n",
      "-rw-rw-r--  1 usuario usuario 3,1M jul  6 19:24 weights_2048.hdf5\n",
      "-rw-rw-r--  1 usuario usuario  17M jul  6 18:02 weights_fourier_2048.hdf5\n",
      "-rw-rw-r--  1 usuario usuario 3,6G jul  6 17:54 X_3_classes.npy\n",
      "-rw-rw-r--  1 usuario usuario  84K jul  6 17:55 y_3_classes.npy\n"
     ]
    }
   ],
   "source": [
    "! ls -lah"
   ]
  },
  {
   "cell_type": "code",
   "execution_count": 1,
   "metadata": {},
   "outputs": [],
   "source": [
    "from birds_utils import DataGenerator, create_train_val_folders\n",
    "from glob import glob"
   ]
  },
  {
   "cell_type": "code",
   "execution_count": 2,
   "metadata": {},
   "outputs": [
    {
     "name": "stdout",
     "output_type": "stream",
     "text": [
      "./dataset/train/\n",
      "./dataset/val/\n"
     ]
    }
   ],
   "source": [
    "dataset_folder = './dataset/'\n",
    "create_train_val_folders(dataset_folder)"
   ]
  },
  {
   "cell_type": "code",
   "execution_count": 3,
   "metadata": {},
   "outputs": [],
   "source": [
    "all_subfolder = 'all/'\n",
    "train_subfolder = 'train/'\n",
    "val_subfolder = 'val/'"
   ]
  },
  {
   "cell_type": "code",
   "execution_count": 4,
   "metadata": {},
   "outputs": [],
   "source": [
    "dataset_folder_all = dataset_folder + all_subfolder\n",
    "dataset_folder_train = dataset_folder + train_subfolder\n",
    "dataset_folder_val = dataset_folder + val_subfolder"
   ]
  },
  {
   "cell_type": "code",
   "execution_count": 5,
   "metadata": {},
   "outputs": [
    {
     "data": {
      "text/plain": [
       "8557"
      ]
     },
     "execution_count": 5,
     "metadata": {},
     "output_type": "execute_result"
    }
   ],
   "source": [
    "len(glob(dataset_folder_train+'**/*', recursive=True))"
   ]
  },
  {
   "cell_type": "code",
   "execution_count": 6,
   "metadata": {},
   "outputs": [
    {
     "data": {
      "text/plain": [
       "2141"
      ]
     },
     "execution_count": 6,
     "metadata": {},
     "output_type": "execute_result"
    }
   ],
   "source": [
    "len(glob(dataset_folder_val+'**/*', recursive=True))"
   ]
  },
  {
   "cell_type": "code",
   "execution_count": 7,
   "metadata": {},
   "outputs": [
    {
     "data": {
      "text/plain": [
       "10695"
      ]
     },
     "execution_count": 7,
     "metadata": {},
     "output_type": "execute_result"
    }
   ],
   "source": [
    "len(glob(dataset_folder_all+'**/*', recursive=True))"
   ]
  },
  {
   "cell_type": "code",
   "execution_count": 47,
   "metadata": {},
   "outputs": [],
   "source": [
    "\n",
    "        "
   ]
  },
  {
   "cell_type": "code",
   "execution_count": 48,
   "metadata": {},
   "outputs": [],
   "source": [
    "\n",
    "\n"
   ]
  },
  {
   "cell_type": "code",
   "execution_count": 49,
   "metadata": {},
   "outputs": [],
   "source": []
  },
  {
   "cell_type": "code",
   "execution_count": 50,
   "metadata": {},
   "outputs": [
    {
     "data": {
      "text/plain": [
       "((8554,), (2138,))"
      ]
     },
     "execution_count": 50,
     "metadata": {},
     "output_type": "execute_result"
    }
   ],
   "source": [
    "audio_files_train.shape, audio_files_val.shape"
   ]
  },
  {
   "cell_type": "code",
   "execution_count": 51,
   "metadata": {},
   "outputs": [],
   "source": []
  },
  {
   "cell_type": "code",
   "execution_count": 52,
   "metadata": {},
   "outputs": [],
   "source": []
  },
  {
   "cell_type": "code",
   "execution_count": null,
   "metadata": {},
   "outputs": [],
   "source": []
  }
 ],
 "metadata": {
  "kernelspec": {
   "display_name": "Python 3",
   "language": "python",
   "name": "python3"
  },
  "language_info": {
   "codemirror_mode": {
    "name": "ipython",
    "version": 3
   },
   "file_extension": ".py",
   "mimetype": "text/x-python",
   "name": "python",
   "nbconvert_exporter": "python",
   "pygments_lexer": "ipython3",
   "version": "3.6.10"
  }
 },
 "nbformat": 4,
 "nbformat_minor": 4
}
