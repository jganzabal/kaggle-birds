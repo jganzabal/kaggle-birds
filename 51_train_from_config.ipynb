{
 "cells": [
  {
   "cell_type": "code",
   "execution_count": 1,
   "metadata": {},
   "outputs": [],
   "source": [
    "%load_ext autoreload\n",
    "%autoreload 2"
   ]
  },
  {
   "cell_type": "code",
   "execution_count": 2,
   "metadata": {},
   "outputs": [],
   "source": [
    "import numpy as np\n",
    "from birds_utils import Dataset, get_pytorch_model_mel, train_model\n",
    "import torch"
   ]
  },
  {
   "cell_type": "code",
   "execution_count": 3,
   "metadata": {},
   "outputs": [],
   "source": [
    "device = torch.device(\"cuda:0\" if torch.cuda.is_available() else \"cpu\")"
   ]
  },
  {
   "cell_type": "code",
   "execution_count": 4,
   "metadata": {},
   "outputs": [],
   "source": [
    "train_config ={\n",
    "    'dataset': './dataset/bin_22050_32/',\n",
    "    'file_stats': './files_std_data_32_bits.npy',\n",
    "    'duration': 5,\n",
    "    'SAMPLE_RATE': 22050,\n",
    "    'pretrained_model': 'resnet18',\n",
    "    'pretrained': True,\n",
    "    'n_classes': 264,\n",
    "    'n_mels': 128,\n",
    "    'window_size': 2048,\n",
    "    'train_batch_size': 32,\n",
    "    'val_batch_size': 32,\n",
    "    'optimizer': 'Adam',\n",
    "    'LEARNING_RATE': 0.001,\n",
    "    'classes_file': './models/classes_264.npy',\n",
    "    'train_files': './train_files_22050_264_32.npy',\n",
    "    'val_files': './val_files_22050_264_32.npy',\n",
    "    'N_samples_train': 2,\n",
    "    'N_samples_val': 4,\n",
    "    'f1_kaggle': '',\n",
    "    'last_training_state': './models/librosa_model_train_state_mel_128_264_32.pth',\n",
    "    'best_model': './models/model_mel_264_v2_32.pth',\n",
    "    'init_fourier': True,\n",
    "    'init_mel': True,\n",
    "    'train_fourier': False,\n",
    "    'train_mel': True,\n",
    "    'train_add_noise': True,\n",
    "    'train_add_ambient_noise': True,\n",
    "    'val_add_noise': False,\n",
    "    'val_add_ambient_noise': False,\n",
    "    'bytes_per_sample': 4\n",
    "}"
   ]
  },
  {
   "cell_type": "code",
   "execution_count": 5,
   "metadata": {},
   "outputs": [
    {
     "name": "stderr",
     "output_type": "stream",
     "text": [
      "Using cache found in /home/usuario/.cache/torch/hub/pytorch_vision_v0.6.0\n"
     ]
    }
   ],
   "source": [
    "model = get_pytorch_model_mel(\n",
    "    window_size=train_config['window_size'], \n",
    "    resnet=train_config['pretrained_model'], \n",
    "    pretrained=train_config['pretrained'],\n",
    "    n_classes=train_config['n_classes'], \n",
    "    init_fourier=train_config['init_fourier'], \n",
    "    init_mel=train_config['init_mel'], \n",
    "    train_fourier=train_config['train_fourier'], \n",
    "    n_mels=train_config['n_mels'],\n",
    "    sr=train_config['SAMPLE_RATE']\n",
    "\n",
    ").to(device)"
   ]
  },
  {
   "cell_type": "code",
   "execution_count": 6,
   "metadata": {},
   "outputs": [],
   "source": [
    "classes = np.load(train_config['classes_file'])\n",
    "file_stats = np.load(train_config['file_stats'], allow_pickle=True).item()\n",
    "train_files = np.load(train_config['train_files'])\n",
    "val_files = np.load(train_config['val_files'])"
   ]
  },
  {
   "cell_type": "code",
   "execution_count": 7,
   "metadata": {},
   "outputs": [],
   "source": [
    "val_files_large = []\n",
    "for file in val_files:\n",
    "    if file_stats[file]['size'] >= train_config['SAMPLE_RATE']*train_config['duration']:\n",
    "        val_files_large.append(file)"
   ]
  },
  {
   "cell_type": "code",
   "execution_count": 8,
   "metadata": {},
   "outputs": [],
   "source": [
    "params_train = {\n",
    "    'batch_size': train_config['train_batch_size'],\n",
    "    'shuffle': True,\n",
    "    'num_workers': 0\n",
    "}\n",
    "\n",
    "params_val = {\n",
    "    'batch_size': train_config['val_batch_size'],\n",
    "    'shuffle': True,\n",
    "    'num_workers': 0,\n",
    "    'timeout': 0\n",
    "}\n",
    "\n",
    "\n",
    "training_set = Dataset(\n",
    "    list_IDs=list(train_files)*train_config['N_samples_train'], \n",
    "    classes=classes, \n",
    "    std_stats=file_stats, \n",
    "    chunk_seconds=train_config['duration'], \n",
    "    bytes_per_sample=train_config['bytes_per_sample'],\n",
    "    sr=train_config['SAMPLE_RATE'], \n",
    "    add_noise=train_config['train_add_noise'], \n",
    "    add_ambient_noise=train_config['train_add_ambient_noise']\n",
    ")\n",
    "\n",
    "validation_set = Dataset(\n",
    "    list_IDs=val_files_large*train_config['N_samples_val'], \n",
    "    classes=classes, \n",
    "    std_stats=file_stats, \n",
    "    chunk_seconds=train_config['duration'], \n",
    "    bytes_per_sample=train_config['bytes_per_sample'],\n",
    "    sr=train_config['SAMPLE_RATE'],\n",
    "    add_noise=train_config['val_add_noise'], \n",
    "    add_ambient_noise=train_config['val_add_ambient_noise']\n",
    ")\n",
    "training_generator = torch.utils.data.DataLoader(training_set, **params_train)\n",
    "validation_generator = torch.utils.data.DataLoader(validation_set, **params_val)"
   ]
  },
  {
   "cell_type": "code",
   "execution_count": 9,
   "metadata": {},
   "outputs": [],
   "source": [
    "criterion = torch.nn.BCEWithLogitsLoss()\n",
    "optimizer = torch.optim.Adam(model.parameters(), lr=train_config['LEARNING_RATE'])"
   ]
  },
  {
   "cell_type": "code",
   "execution_count": null,
   "metadata": {},
   "outputs": [
    {
     "name": "stdout",
     "output_type": "stream",
     "text": [
      "1/25 - 1067/1067 - loss: 0.02317820116877556, F1 micro: 0.009694719687104225, acc: 0.005826747044920921, elapesed_time: 0:14:52.994340\n",
      "506/506 - val loss: 0.01929677277803421, val F1 micro: 0.07048851251602173 val acc: 0.0390412658452987735\n",
      "Best model saved\n",
      "--------------------------------------------------------------------------\n",
      "2/25 - 1067/1067 - loss: 0.01603003963828087, F1 micro: 0.12391232699155807, acc: 0.06974365562200546, elapesed_time: 0:15:01.384294\n",
      "506/506 - val loss: 0.016249969601631165, val F1 micro: 0.23465649783611298 val acc: 0.14844329655170442\n",
      "Best model saved\n",
      "--------------------------------------------------------------------------\n",
      "3/25 - 1067/1067 - loss: 0.01315353810787201, F1 micro: 0.2978919446468353, acc: 0.1903521865606308, elapesed_time: 0:16:09.113058\n",
      "506/506 - val loss: 0.013348674401640892, val F1 micro: 0.39563482999801636 val acc: 0.29114159941673286\n",
      "Best model saved\n",
      "--------------------------------------------------------------------------\n",
      "4/25 - 1067/1067 - loss: 0.01106282602995634, F1 micro: 0.4337928891181946, acc: 0.3049275875091553, elapesed_time: 0:14:52.627685\n",
      "506/506 - val loss: 0.013655869290232658, val F1 micro: 0.42612919211387634 val acc: 0.31412157416343693\n",
      "--------------------------------------------------------------------------\n",
      "5/25 - 1067/1067 - loss: 0.009584658779203892, F1 micro: 0.5309954285621643, acc: 0.3980654776096344, elapesed_time: 0:15:38.861526\n",
      "506/506 - val loss: 0.011331132613122463, val F1 micro: 0.5515953302383423 val acc: 0.45601680874824524\n",
      "Best model saved\n",
      "--------------------------------------------------------------------------\n",
      "6/25 - 1067/1067 - loss: 0.008448895066976547, F1 micro: 0.5961781144142151, acc: 0.46823155879974365, elapesed_time: 0:15:17.151642\n",
      "506/506 - val loss: 0.011577238328754902, val F1 micro: 0.5756118297576904 val acc: 0.5063627362251282\n",
      "--------------------------------------------------------------------------\n",
      "7/25 - 1067/1067 - loss: 0.007390828803181648, F1 micro: 0.6532130837440491, acc: 0.5332258939743042, elapesed_time: 0:15:45.579315\n",
      "470/506 - val loss: 0.010182013735175133, val F1 micro: 0.6083555817604065 val acc: 0.5068483948707581"
     ]
    }
   ],
   "source": [
    "n_classes = train_config['n_classes']\n",
    "\n",
    "epochs, losses, F1s, val_losses, val_F1s = train_model(\n",
    "    model, \n",
    "    training_generator, \n",
    "    validation_generator, \n",
    "    criterion=criterion, \n",
    "    optimizer=optimizer,\n",
    "    name=f'./models/model_mel_v2_128_32_{n_classes}', \n",
    "    device=device,\n",
    "    epochs=25\n",
    ")"
   ]
  },
  {
   "cell_type": "code",
   "execution_count": 44,
   "metadata": {},
   "outputs": [],
   "source": [
    "train_config['last_training_state']\n",
    "train_config['best_model'] = 'model_mel_v2_264_0.00943.pth'\n"
   ]
  },
  {
   "cell_type": "code",
   "execution_count": 43,
   "metadata": {},
   "outputs": [],
   "source": [
    "torch.save({\n",
    "    'epoch': 25,\n",
    "    'model_state_dict': model.state_dict(),\n",
    "    'optimizer_state_dict': optimizer.state_dict(),\n",
    "}, train_config['last_training_state'])"
   ]
  },
  {
   "cell_type": "code",
   "execution_count": 41,
   "metadata": {},
   "outputs": [],
   "source": [
    "train_config['results'] = {}\n",
    "train_config['results']['losses'] = losses_d\n",
    "train_config['results']['val_losses'] = val_losses\n",
    "train_config['results']['f1_score'] = F1s_d\n",
    "train_config['results']['val_f1_score'] = val_F1s"
   ]
  },
  {
   "cell_type": "code",
   "execution_count": 45,
   "metadata": {},
   "outputs": [],
   "source": [
    "import time\n",
    "np.save(f'training_configs/train_config_{int(time.time())}_mel_no_train.npy', train_config)"
   ]
  },
  {
   "cell_type": "code",
   "execution_count": 46,
   "metadata": {},
   "outputs": [
    {
     "name": "stdout",
     "output_type": "stream",
     "text": [
      "{'noise': 0, 'noise+signal': 0, 'signal': 0, 'passband_noise': 0, 'short_file': 0}\n",
      "{'noise': 22700, 'noise+signal': 0, 'signal': 404700, 'passband_noise': 0, 'short_file': 22700}\n"
     ]
    }
   ],
   "source": [
    "print(training_set.stats)\n",
    "print(validation_set.stats)"
   ]
  },
  {
   "cell_type": "code",
   "execution_count": null,
   "metadata": {},
   "outputs": [],
   "source": [
    "# sd"
   ]
  },
  {
   "cell_type": "code",
   "execution_count": null,
   "metadata": {},
   "outputs": [],
   "source": []
  }
 ],
 "metadata": {
  "kernelspec": {
   "display_name": "Python [conda env:tensorflow2] *",
   "language": "python",
   "name": "conda-env-tensorflow2-py"
  },
  "language_info": {
   "codemirror_mode": {
    "name": "ipython",
    "version": 3
   },
   "file_extension": ".py",
   "mimetype": "text/x-python",
   "name": "python",
   "nbconvert_exporter": "python",
   "pygments_lexer": "ipython3",
   "version": "3.6.10"
  }
 },
 "nbformat": 4,
 "nbformat_minor": 4
}
