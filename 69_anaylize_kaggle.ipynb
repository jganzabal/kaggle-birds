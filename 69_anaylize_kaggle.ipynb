{
 "cells": [
  {
   "cell_type": "code",
   "execution_count": 2,
   "metadata": {},
   "outputs": [],
   "source": [
    "%load_ext autoreload\n",
    "%autoreload 2"
   ]
  },
  {
   "cell_type": "code",
   "execution_count": 1,
   "metadata": {},
   "outputs": [
    {
     "ename": "SyntaxError",
     "evalue": "invalid syntax (<ipython-input-1-4bcf2bfe6da3>, line 11)",
     "output_type": "error",
     "traceback": [
      "\u001b[0;36m  File \u001b[0;32m\"<ipython-input-1-4bcf2bfe6da3>\"\u001b[0;36m, line \u001b[0;32m11\u001b[0m\n\u001b[0;31m    (,  ,'BirdsNet', 'model_mel_v2_128_32_a_264__0.0095.pth')\u001b[0m\n\u001b[0m     ^\u001b[0m\n\u001b[0;31mSyntaxError\u001b[0m\u001b[0;31m:\u001b[0m invalid syntax\n"
     ]
    }
   ],
   "source": [
    "kaggle_models = [\n",
    "    (4, 0.492, 'get_pytorch_model_all_conv', 'model_ambient_264_0.627.pth'),\n",
    "    (8, 0.492, 'get_pytorch_model_all_conv', 'model_ambient_264_0.627.pth'),\n",
    "    (10, 0.549, 'get_pytorch_model_all_conv', 'model_ambient_librosa_264_0.677.pth'),\n",
    "    (12, 0.488, 'get_pytorch_model_all_conv', 'model_ambient_librosa_264_0.73.pth'),\n",
    "    (13, 0.459, 'get_pytorch_model_all_conv', 'model_ambient_librosa_264_0.689.pth'),\n",
    "    (14, 0.548, 'get_pytorch_model_mel', 'model_mel_264_0.58.pth'),\n",
    "    (15, 0.534, 'get_pytorch_model_mel', 'model_mel_v2_264_0.00943.pth', \"mel 256, no train\")\n",
    "    (16, 0.532, 'get_pytorch_model_mel', 'model_mel_v2_128_32_264_0.00971.pth', )\n",
    "    (17, 0.546 ,'BirdsNet', 'model_mel_v2_128_32_264_0.00959.pth')\n",
    "    (,  ,'BirdsNet', 'model_mel_v2_128_32_a_264__0.0095.pth')\n",
    "]"
   ]
  },
  {
   "cell_type": "code",
   "execution_count": null,
   "metadata": {},
   "outputs": [],
   "source": []
  }
 ],
 "metadata": {
  "kernelspec": {
   "display_name": "Python [conda env:tensorflow2] *",
   "language": "python",
   "name": "conda-env-tensorflow2-py"
  },
  "language_info": {
   "codemirror_mode": {
    "name": "ipython",
    "version": 3
   },
   "file_extension": ".py",
   "mimetype": "text/x-python",
   "name": "python",
   "nbconvert_exporter": "python",
   "pygments_lexer": "ipython3",
   "version": "3.6.10"
  }
 },
 "nbformat": 4,
 "nbformat_minor": 4
}
