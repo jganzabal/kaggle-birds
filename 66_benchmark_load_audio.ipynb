{
 "cells": [
  {
   "cell_type": "code",
   "execution_count": 9,
   "metadata": {},
   "outputs": [
    {
     "name": "stdout",
     "output_type": "stream",
     "text": [
      "The autoreload extension is already loaded. To reload it, use:\n",
      "  %reload_ext autoreload\n"
     ]
    }
   ],
   "source": [
    "%load_ext autoreload\n",
    "%autoreload 2"
   ]
  },
  {
   "cell_type": "code",
   "execution_count": 186,
   "metadata": {},
   "outputs": [],
   "source": [
    "import numpy as np\n",
    "from birds_utils import get_bin_audio, get_audio_chunk\n",
    "import librosa"
   ]
  },
  {
   "cell_type": "code",
   "execution_count": 187,
   "metadata": {},
   "outputs": [],
   "source": [
    "files_stats = np.load('files_std_data_librosa.npy', allow_pickle=True).item()"
   ]
  },
  {
   "cell_type": "code",
   "execution_count": 188,
   "metadata": {},
   "outputs": [
    {
     "data": {
      "text/plain": [
       "21341"
      ]
     },
     "execution_count": 188,
     "metadata": {},
     "output_type": "execute_result"
    }
   ],
   "source": [
    "len(files_stats)"
   ]
  },
  {
   "cell_type": "code",
   "execution_count": 189,
   "metadata": {},
   "outputs": [
    {
     "data": {
      "text/plain": [
       "{'std_max': 4.977633349200952,\n",
       " 'std_mean': 0.5204739239983166,\n",
       " 'std_min': 0.06745087074680106,\n",
       " 'size': 2089811}"
      ]
     },
     "execution_count": 189,
     "metadata": {},
     "output_type": "execute_result"
    }
   ],
   "source": [
    "files_stats['./dataset/bin_22050_librosa/rewbla/XC173883.mp3.bin']"
   ]
  },
  {
   "cell_type": "code",
   "execution_count": 190,
   "metadata": {},
   "outputs": [],
   "source": [
    "MP3_FOLDER = '/home/usuario/birds/birdsong-recognition/train_audio/'\n",
    "BIN32_FOLDER = './dataset/bin_22050_32/'\n",
    "BIN64_FOLDER = './dataset/bin_22050_librosa/'"
   ]
  },
  {
   "cell_type": "code",
   "execution_count": 191,
   "metadata": {},
   "outputs": [
    {
     "name": "stdout",
     "output_type": "stream",
     "text": [
      "./dataset/bin_22050_librosa/rewbla/XC173883.mp3.bin\n",
      "./dataset/bin_22050_32/rewbla/XC173883.mp3.bin\n",
      "/home/usuario/birds/birdsong-recognition/train_audio/rewbla/XC173883.mp3\n"
     ]
    }
   ],
   "source": [
    "file = 'aldfly/XC134874.mp3.bin'\n",
    "file = 'aldfly/XC135454.mp3.bin'\n",
    "file = 'rewbla/XC173883.mp3.bin'\n",
    "\n",
    "file_name_64 = BIN64_FOLDER+file\n",
    "file_name_32 = BIN32_FOLDER+file\n",
    "file_name_mp3 = MP3_FOLDER + file.replace('.bin', '')\n",
    "print(file_name_64)\n",
    "print(file_name_32)\n",
    "print(file_name_mp3)"
   ]
  },
  {
   "cell_type": "code",
   "execution_count": 192,
   "metadata": {},
   "outputs": [],
   "source": [
    "size = files_stats[file_name_64]['size']"
   ]
  },
  {
   "cell_type": "code",
   "execution_count": 195,
   "metadata": {},
   "outputs": [
    {
     "name": "stdout",
     "output_type": "stream",
     "text": [
      "CPU times: user 60.9 ms, sys: 64.9 ms, total: 126 ms\n",
      "Wall time: 126 ms\n"
     ]
    }
   ],
   "source": [
    "%%time\n",
    "for i in range(1000):\n",
    "    audio_chunk = get_audio_chunk(file_name_64, size, 8)"
   ]
  },
  {
   "cell_type": "code",
   "execution_count": 196,
   "metadata": {},
   "outputs": [
    {
     "name": "stdout",
     "output_type": "stream",
     "text": [
      "CPU times: user 34.4 ms, sys: 27 ms, total: 61.4 ms\n",
      "Wall time: 61.2 ms\n"
     ]
    }
   ],
   "source": [
    "%%time\n",
    "for i in range(1000):\n",
    "    audio_chunk = get_audio_chunk(file_name_32, size, 4)"
   ]
  },
  {
   "cell_type": "code",
   "execution_count": 200,
   "metadata": {},
   "outputs": [
    {
     "name": "stdout",
     "output_type": "stream",
     "text": [
      "CPU times: user 153 ms, sys: 36.1 ms, total: 189 ms\n",
      "Wall time: 189 ms\n"
     ]
    }
   ],
   "source": [
    "%%time\n",
    "for i in range(1000):\n",
    "    audio_chunk = get_audio_chunk('test.wav', size, 4)"
   ]
  },
  {
   "cell_type": "code",
   "execution_count": 201,
   "metadata": {},
   "outputs": [
    {
     "name": "stdout",
     "output_type": "stream",
     "text": [
      "-rw-rw-r-- 1 usuario usuario 8359302 jul 18 19:04 test.wav\n"
     ]
    }
   ],
   "source": [
    "! ls -la test.wav"
   ]
  },
  {
   "cell_type": "code",
   "execution_count": 202,
   "metadata": {},
   "outputs": [
    {
     "name": "stdout",
     "output_type": "stream",
     "text": [
      "-rw-rw-r-- 1 usuario usuario 16718488 jul 16 19:51 ./dataset/bin_22050_librosa/rewbla/XC173883.mp3.bin\n"
     ]
    }
   ],
   "source": [
    "! ls -la {file_name_64}"
   ]
  },
  {
   "cell_type": "code",
   "execution_count": 203,
   "metadata": {},
   "outputs": [
    {
     "name": "stdout",
     "output_type": "stream",
     "text": [
      "-rw-rw-r-- 1 usuario usuario 8359244 jul 18 13:42 ./dataset/bin_22050_32/rewbla/XC173883.mp3.bin\n"
     ]
    }
   ],
   "source": [
    "! ls -la {file_name_32}"
   ]
  },
  {
   "cell_type": "code",
   "execution_count": null,
   "metadata": {},
   "outputs": [],
   "source": []
  }
 ],
 "metadata": {
  "kernelspec": {
   "display_name": "Python [conda env:tensorflow2] *",
   "language": "python",
   "name": "conda-env-tensorflow2-py"
  },
  "language_info": {
   "codemirror_mode": {
    "name": "ipython",
    "version": 3
   },
   "file_extension": ".py",
   "mimetype": "text/x-python",
   "name": "python",
   "nbconvert_exporter": "python",
   "pygments_lexer": "ipython3",
   "version": "3.6.10"
  }
 },
 "nbformat": 4,
 "nbformat_minor": 4
}
