{
 "cells": [
  {
   "cell_type": "markdown",
   "metadata": {},
   "source": [
    "### rating_thres = 4, ratio = 0.2, chunk_seconds = 2, sr = 22050, window_size = 1024, epochs = 100, std_thres = None, batch_size=128\n",
    "best_val: 0.73749\n",
    "train: 0.9834  val_accuracy: 0.7358"
   ]
  },
  {
   "cell_type": "markdown",
   "metadata": {},
   "source": [
    "### rating_thres = 4, ratio = 0.2, chunk_seconds = 2, sr = 22050, window_size = 1024, epochs = 100, std_thres = 0.5, batch_size=128\n",
    "best_val: 0.75191\n",
    "train: 0.9994 val_accuracy: 0.7477"
   ]
  },
  {
   "cell_type": "markdown",
   "metadata": {},
   "source": [
    "### rating_thres = 4, ratio = 0.2, chunk_seconds = 2, sr = 22050, window_size = 1024, epochs = 100, std_thres = 0.1, batch_size=128\n",
    "best_val: 0.81764\n",
    "train: 0.9999 val_accuracy: 0.7965"
   ]
  },
  {
   "cell_type": "markdown",
   "metadata": {},
   "source": [
    "### rating_thres = 4, ratio = 0.2, chunk_seconds = 1, sr = 22050, window_size = 1024, epochs = 100, std_thres = 0.1, batch_size=128\n",
    "best_val: 0.78380\n",
    "train: 1.0000 val_accuracy: 0.7665"
   ]
  },
  {
   "cell_type": "markdown",
   "metadata": {},
   "source": [
    "### rating_thres = 4, ratio = 0.2, chunk_seconds = 3, sr = 22050, window_size = 1024, epochs = 100, std_thres = 0.1, batch_size=128\n",
    "best_val: 0.80797\n",
    "train: 0.9998 val_accuracy: 0.7558"
   ]
  },
  {
   "cell_type": "markdown",
   "metadata": {},
   "source": [
    "### rating_thres = 1, ratio = 0.2, chunk_seconds = 2, sr = 22050, window_size = 1024, epochs = 100, std_thres = 0.1, batch_size=128\n",
    "best_val: 0.80797\n",
    "train: 0.9998 val_accuracy: 0.7558"
   ]
  },
  {
   "cell_type": "markdown",
   "metadata": {},
   "source": [
    "### rating_thres = 1, ratio = 0.2, chunk_seconds = 5, hop_seconds=2, sr = 22050, window_size = 1024, epochs = 78, std_thres = 0.1, batch_size=128\n",
    "best_val: 0.84866\n",
    "train: accuracy: 1.0000 val_accuracy: 0.8215"
   ]
  },
  {
   "cell_type": "markdown",
   "metadata": {},
   "source": [
    "### rating_thres = 1, ratio = 0.2, chunk_seconds = 5, hop_seconds=0.25, sr = 22050, window_size = 1024, epochs = 20, std_thres = 0.1, batch_size=128\n",
    "\n",
    "best_val: .86064\n",
    "train: accuracy:  0.9807  val_accuracy: 0.8606\n",
    "Epoch 6/200 ETA: 9:19"
   ]
  },
  {
   "cell_type": "markdown",
   "metadata": {},
   "source": [
    "### rating_thres = 1, ratio = 0.2, chunk_seconds = 1, hop_seconds=0.2, sr = 22050, window_size = 1024, epochs = 5, std_thres = 1, batch_size=128\n",
    "best_val: 0.81172\n",
    "train: accuracy:  0.9974 - val_loss: 0.6168 - val_accuracy: 0.7902"
   ]
  },
  {
   "cell_type": "code",
   "execution_count": null,
   "metadata": {},
   "outputs": [],
   "source": [
    "### rating_thres = 1, ratio = 0.2, chunk_seconds = 1, hop_seconds=0.2, sr = 22050, window_size = 1024, epochs = 5, std_thres = 0.1, batch_size=128\n",
    "Epoch 2/20\n",
    "692/692 [==============================] - ETA: 0s - loss: 0.2989 - accuracy: 0.8911\n",
    "Epoch 00002: val_accuracy improved from 0.70300 to 0.73303, saving model to weights_1024.hdf5\n",
    "692/692 [==============================] - 1161s 2s/step - loss: 0.2989 - accuracy: 0.8911 - val_loss: 0.6695 - val_accuracy: 0.7330\n",
    "Epoch 3/20\n",
    " 57/692 [=>............................] - ETA: 9:49 - loss: 0.2454 - accuracy: 0.9132"
   ]
  }
 ],
 "metadata": {
  "kernelspec": {
   "display_name": "Python [conda env:tensorflow2] *",
   "language": "python",
   "name": "conda-env-tensorflow2-py"
  },
  "language_info": {
   "codemirror_mode": {
    "name": "ipython",
    "version": 3
   },
   "file_extension": ".py",
   "mimetype": "text/x-python",
   "name": "python",
   "nbconvert_exporter": "python",
   "pygments_lexer": "ipython3",
   "version": "3.6.10"
  }
 },
 "nbformat": 4,
 "nbformat_minor": 4
}
