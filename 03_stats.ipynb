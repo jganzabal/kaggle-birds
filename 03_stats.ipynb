{
 "cells": [
  {
   "cell_type": "markdown",
   "metadata": {},
   "source": [
    "### rating_thres = 4, ratio = 0.2, chunk_seconds = 2, sr = 22050, window_size = 1024, epochs = 100, std_thres = None, batch_size=128\n",
    "best_val: 0.73749\n",
    "train: 0.9834  val_accuracy: 0.7358"
   ]
  },
  {
   "cell_type": "markdown",
   "metadata": {},
   "source": [
    "### rating_thres = 4, ratio = 0.2, chunk_seconds = 2, sr = 22050, window_size = 1024, epochs = 100, std_thres = 0.5, batch_size=128\n",
    "best_val: 0.75191\n",
    "train: 0.9994 val_accuracy: 0.7477"
   ]
  },
  {
   "cell_type": "markdown",
   "metadata": {},
   "source": [
    "### rating_thres = 4, ratio = 0.2, chunk_seconds = 2, sr = 22050, window_size = 1024, epochs = 100, std_thres = 0.1, batch_size=128\n",
    "best_val: 0.81764\n",
    "train: 0.9999 val_accuracy: 0.7965"
   ]
  },
  {
   "cell_type": "markdown",
   "metadata": {},
   "source": [
    "### rating_thres = 4, ratio = 0.2, chunk_seconds = 1, sr = 22050, window_size = 1024, epochs = 100, std_thres = 0.1, batch_size=128\n",
    "best_val: 0.78380\n",
    "train: 1.0000 val_accuracy: 0.7665"
   ]
  },
  {
   "cell_type": "markdown",
   "metadata": {},
   "source": [
    "### rating_thres = 4, ratio = 0.2, chunk_seconds = 3, sr = 22050, window_size = 1024, epochs = 100, std_thres = 0.1, batch_size=128\n",
    "best_val: 0.80797\n",
    "train: 0.9998 val_accuracy: 0.7558"
   ]
  },
  {
   "cell_type": "code",
   "execution_count": null,
   "metadata": {},
   "outputs": [],
   "source": []
  }
 ],
 "metadata": {
  "kernelspec": {
   "display_name": "Python [conda env:tensorflow2] *",
   "language": "python",
   "name": "conda-env-tensorflow2-py"
  },
  "language_info": {
   "codemirror_mode": {
    "name": "ipython",
    "version": 3
   },
   "file_extension": ".py",
   "mimetype": "text/x-python",
   "name": "python",
   "nbconvert_exporter": "python",
   "pygments_lexer": "ipython3",
   "version": "3.6.10"
  }
 },
 "nbformat": 4,
 "nbformat_minor": 4
}
